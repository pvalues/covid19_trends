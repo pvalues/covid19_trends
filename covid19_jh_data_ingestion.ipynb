{
 "cells": [
  {
   "cell_type": "markdown",
   "metadata": {},
   "source": [
    "### covid-19 JH data ingestion<br>\n",
    "author   : santosh<br>\n",
    "date     : 05.01.2020<br>\n",
    "purpose  : ingest covid-19 data, reformat and generate analysis dataset<br>\n",
    "instance : local<br>"
   ]
  },
  {
   "cell_type": "markdown",
   "metadata": {},
   "source": [
    "<font color='tan'> setup"
   ]
  },
  {
   "cell_type": "code",
   "execution_count": 1,
   "metadata": {},
   "outputs": [],
   "source": [
    "#import dependencies\n",
    "#data wrangling\n",
    "import numpy as np\n",
    "import pandas as pd\n",
    "import dfply as dfp\n",
    "import datetime as dt\n",
    "#plot\n",
    "# import matplotlib.pyplot as plt\n",
    "# plt.style.use('dark_background')\n",
    "# import seaborn as sb\n",
    "#helper funcs\n",
    "from helper_funcs import isUnique"
   ]
  },
  {
   "cell_type": "code",
   "execution_count": 2,
   "metadata": {},
   "outputs": [],
   "source": [
    "#display options\n",
    "pd.options.display.html.table_schema = True\n",
    "pd.set_option('display.max_rows', 999)\n",
    "# %matplotlib inline"
   ]
  },
  {
   "cell_type": "markdown",
   "metadata": {},
   "source": [
    "<font color='tan'> ingest data"
   ]
  },
  {
   "cell_type": "code",
   "execution_count": 3,
   "metadata": {},
   "outputs": [],
   "source": [
    "#func to read csv file\n",
    "def ingestJH(ipfilename, colname):\n",
    "    \"\"\"\n",
    "    this func ingests JH covid-19 data and returns a scrubbed dataframe\n",
    "    \"\"\"\n",
    "    #read csv and drop 1st row\n",
    "    df = pd.read_csv(ipfilename, sep=',',skiprows=0, parse_dates=['Date'])\n",
    "    df.drop(index=0, axis=0, inplace=True)\n",
    "    \n",
    "    #scrub fields\n",
    "    df.rename(columns={'Country/Region':'Country_Region',\n",
    "                       'Province/State':'Province_State',\n",
    "                       'Value':colname,\n",
    "                       'ISO 3166-1 Alpha 3-Codes':'ISO3166-1Alpha3-Codes',\n",
    "                       'Region Code':'Region_Code',\n",
    "                       'Sub-region Code':'Sub_Region_Code',\n",
    "                       'Intermediate Region Code':'Intermediate_Region_Code'}, inplace=True)\n",
    "    \n",
    "    #recast data types\n",
    "    df['Date']  = pd.to_datetime(df['Date'], errors='coerce')\n",
    "    df['Lat']   = pd.to_numeric(df['Lat'],   errors='coerce')\n",
    "    df['Long']  = pd.to_numeric(df['Long'],  errors='coerce')\n",
    "    df[colname] = pd.to_numeric(df[colname], errors='coerce')\n",
    "    \n",
    "    #make country value uppercase\n",
    "    df['Country_Region'] = df['Country_Region'].apply(lambda x:x.upper())\n",
    "    \n",
    "    #aggregate across country\n",
    "    df = df.groupby(['Country_Region','Date']).agg({colname:'sum'}).reset_index()\n",
    "    print('\\nisData Unique in Country and Date: \\n')\n",
    "    print(isUnique(df, ['Country_Region','Date']))\n",
    "    \n",
    "    #return df\n",
    "    return df"
   ]
  },
  {
   "cell_type": "code",
   "execution_count": 4,
   "metadata": {},
   "outputs": [
    {
     "name": "stdout",
     "output_type": "stream",
     "text": [
      "\n",
      "isData Unique in Country and Date: \n",
      "\n",
      "True\n",
      "\n",
      "isData Unique in Country and Date: \n",
      "\n",
      "True\n",
      "\n",
      "isData Unique in Country and Date: \n",
      "\n",
      "True\n"
     ]
    }
   ],
   "source": [
    "df_confirmed = ingestJH('../data/time_series_covid19_confirmed_global_narrow.csv','Confirmed')\n",
    "df_deaths = ingestJH('../data/time_series_covid19_deaths_global_narrow.csv','Deaths')\n",
    "df_recovered = ingestJH('../data/time_series_covid19_recovered_global_narrow.csv','Recovered')"
   ]
  },
  {
   "cell_type": "code",
   "execution_count": 5,
   "metadata": {},
   "outputs": [],
   "source": [
    "#merge confirmed, deaths and recovered data into a single dataframe\n",
    "df_all = pd.merge(df_confirmed,\n",
    "                  df_deaths,\n",
    "                  on=['Country_Region','Date'],\n",
    "                  how='left',\n",
    "                  indicator=False)\n",
    "\n",
    "df_all = pd.merge(df_all,\n",
    "                  df_recovered,\n",
    "                  on=['Country_Region','Date'],\n",
    "                  how='left',indicator=False)"
   ]
  },
  {
   "cell_type": "code",
   "execution_count": 6,
   "metadata": {},
   "outputs": [
    {
     "data": {
      "application/vnd.dataresource+json": {
       "data": [
        {
         "Confirmed": 1039909,
         "Country_Region": "US",
         "Date": "2020-04-29T00:00:00.000Z",
         "Deaths": 60967,
         "Recovered": 120720,
         "index": 18432
        },
        {
         "Confirmed": 1069424,
         "Country_Region": "US",
         "Date": "2020-04-30T00:00:00.000Z",
         "Deaths": 62996,
         "Recovered": 153947,
         "index": 18433
        },
        {
         "Confirmed": 1103461,
         "Country_Region": "US",
         "Date": "2020-05-01T00:00:00.000Z",
         "Deaths": 64943,
         "Recovered": 164015,
         "index": 18434
        },
        {
         "Confirmed": 1132539,
         "Country_Region": "US",
         "Date": "2020-05-02T00:00:00.000Z",
         "Deaths": 66369,
         "Recovered": 175382,
         "index": 18435
        },
        {
         "Confirmed": 1158040,
         "Country_Region": "US",
         "Date": "2020-05-03T00:00:00.000Z",
         "Deaths": 67682,
         "Recovered": 180152,
         "index": 18436
        }
       ],
       "schema": {
        "fields": [
         {
          "name": "index",
          "type": "integer"
         },
         {
          "name": "Country_Region",
          "type": "string"
         },
         {
          "name": "Date",
          "type": "datetime"
         },
         {
          "name": "Confirmed",
          "type": "integer"
         },
         {
          "name": "Deaths",
          "type": "integer"
         },
         {
          "name": "Recovered",
          "type": "integer"
         }
        ],
        "pandas_version": "0.20.0",
        "primaryKey": [
         "index"
        ]
       }
      },
      "text/html": [
       "<div>\n",
       "<style scoped>\n",
       "    .dataframe tbody tr th:only-of-type {\n",
       "        vertical-align: middle;\n",
       "    }\n",
       "\n",
       "    .dataframe tbody tr th {\n",
       "        vertical-align: top;\n",
       "    }\n",
       "\n",
       "    .dataframe thead th {\n",
       "        text-align: right;\n",
       "    }\n",
       "</style>\n",
       "<table border=\"1\" class=\"dataframe\">\n",
       "  <thead>\n",
       "    <tr style=\"text-align: right;\">\n",
       "      <th></th>\n",
       "      <th>Country_Region</th>\n",
       "      <th>Date</th>\n",
       "      <th>Confirmed</th>\n",
       "      <th>Deaths</th>\n",
       "      <th>Recovered</th>\n",
       "    </tr>\n",
       "  </thead>\n",
       "  <tbody>\n",
       "    <tr>\n",
       "      <th>18432</th>\n",
       "      <td>US</td>\n",
       "      <td>2020-04-29</td>\n",
       "      <td>1039909</td>\n",
       "      <td>60967</td>\n",
       "      <td>120720</td>\n",
       "    </tr>\n",
       "    <tr>\n",
       "      <th>18433</th>\n",
       "      <td>US</td>\n",
       "      <td>2020-04-30</td>\n",
       "      <td>1069424</td>\n",
       "      <td>62996</td>\n",
       "      <td>153947</td>\n",
       "    </tr>\n",
       "    <tr>\n",
       "      <th>18434</th>\n",
       "      <td>US</td>\n",
       "      <td>2020-05-01</td>\n",
       "      <td>1103461</td>\n",
       "      <td>64943</td>\n",
       "      <td>164015</td>\n",
       "    </tr>\n",
       "    <tr>\n",
       "      <th>18435</th>\n",
       "      <td>US</td>\n",
       "      <td>2020-05-02</td>\n",
       "      <td>1132539</td>\n",
       "      <td>66369</td>\n",
       "      <td>175382</td>\n",
       "    </tr>\n",
       "    <tr>\n",
       "      <th>18436</th>\n",
       "      <td>US</td>\n",
       "      <td>2020-05-03</td>\n",
       "      <td>1158040</td>\n",
       "      <td>67682</td>\n",
       "      <td>180152</td>\n",
       "    </tr>\n",
       "  </tbody>\n",
       "</table>\n",
       "</div>"
      ],
      "text/plain": [
       "      Country_Region       Date  Confirmed  Deaths  Recovered\n",
       "18432             US 2020-04-29    1039909   60967     120720\n",
       "18433             US 2020-04-30    1069424   62996     153947\n",
       "18434             US 2020-05-01    1103461   64943     164015\n",
       "18435             US 2020-05-02    1132539   66369     175382\n",
       "18436             US 2020-05-03    1158040   67682     180152"
      ]
     },
     "execution_count": 6,
     "metadata": {},
     "output_type": "execute_result"
    }
   ],
   "source": [
    "#print sample recs\n",
    "df_all.loc[df_all['Country_Region'] == 'US'].tail()"
   ]
  },
  {
   "cell_type": "code",
   "execution_count": 7,
   "metadata": {},
   "outputs": [
    {
     "name": "stdout",
     "output_type": "stream",
     "text": [
      "\n",
      "number of unique countries in list:  187\n"
     ]
    }
   ],
   "source": [
    "#get list of all countries in dataframe\n",
    "list_country = df_all['Country_Region'].unique().tolist()\n",
    "print('\\nnumber of unique countries in list: ', len(list_country))"
   ]
  },
  {
   "cell_type": "markdown",
   "metadata": {},
   "source": [
    "<font color='tan'> append lagged values"
   ]
  },
  {
   "cell_type": "code",
   "execution_count": 8,
   "metadata": {},
   "outputs": [],
   "source": [
    "#func to append lag of infusion counts\n",
    "def getLagValues(country):\n",
    "    \"\"\"\n",
    "    this func appends lagged cumulative infusion counts\n",
    "    for an input list of countries supplied\n",
    "    \"\"\"\n",
    "    #filter for required country\n",
    "    stack = df_all.loc[df_all['Country_Region'] == country]\\\n",
    "    [['Country_Region','Date','Confirmed','Deaths','Recovered']]\\\n",
    "    .sort_values(by=['Date'], ascending=True)\n",
    "    \n",
    "    #check for uniqueness\n",
    "    bool_check = isUnique(stack, ['Date'])\n",
    "    if bool_check == False:\n",
    "        print('\\naborted due to uniqueness check fail: ', country)\n",
    "        stop\n",
    "    else:\n",
    "        pass\n",
    "    \n",
    "    #append lag of cum_inf_count\n",
    "    stack['Confirmed_Lag'] = stack['Confirmed'].shift(1)\n",
    "    stack['Deaths_Lag']    = stack['Deaths'].shift(1)\n",
    "    stack['Recovered_Lag'] = stack['Recovered'].shift(1)\n",
    "    \n",
    "    #compute new cases\n",
    "    stack['Confirmed_New'] = (stack['Confirmed'] - stack['Confirmed_Lag'])\n",
    "    stack['Confirmed_New'].fillna(0, inplace=True)\n",
    "    stack['Deaths_New'] = (stack['Deaths'] - stack['Deaths_Lag'])\n",
    "    stack['Deaths_New'].fillna(0, inplace=True)\n",
    "    stack['Recovered_New'] = (stack['Recovered'] - stack['Recovered_Lag'])\n",
    "    stack['Recovered_New'].fillna(0, inplace=True)\n",
    "    #drop unwanted cols\n",
    "    stack.drop(columns=['Confirmed_Lag','Deaths_Lag','Recovered_Lag'], inplace=True)\n",
    "    \n",
    "    #return data\n",
    "    return stack"
   ]
  },
  {
   "cell_type": "code",
   "execution_count": 9,
   "metadata": {},
   "outputs": [],
   "source": [
    "#run lag func for all countries\n",
    "df_final = pd.DataFrame() #empty dataframe\n",
    "\n",
    "#iterate over country list\n",
    "for item in list_country:\n",
    "    temp = getLagValues(item)\n",
    "    df_final = pd.concat([df_final, temp], axis=0, sort=True)"
   ]
  },
  {
   "cell_type": "code",
   "execution_count": 10,
   "metadata": {},
   "outputs": [
    {
     "data": {
      "application/vnd.dataresource+json": {
       "data": [
        {
         "Confirmed": 0,
         "Confirmed_New": 0,
         "Country_Region": "AFGHANISTAN",
         "Date": "2020-01-22T00:00:00.000Z",
         "Deaths": 0,
         "Deaths_New": 0,
         "Recovered": 0,
         "Recovered_New": 0,
         "index": 0
        },
        {
         "Confirmed": 0,
         "Confirmed_New": 0,
         "Country_Region": "AFGHANISTAN",
         "Date": "2020-01-23T00:00:00.000Z",
         "Deaths": 0,
         "Deaths_New": 0,
         "Recovered": 0,
         "Recovered_New": 0,
         "index": 1
        },
        {
         "Confirmed": 0,
         "Confirmed_New": 0,
         "Country_Region": "AFGHANISTAN",
         "Date": "2020-01-24T00:00:00.000Z",
         "Deaths": 0,
         "Deaths_New": 0,
         "Recovered": 0,
         "Recovered_New": 0,
         "index": 2
        },
        {
         "Confirmed": 0,
         "Confirmed_New": 0,
         "Country_Region": "AFGHANISTAN",
         "Date": "2020-01-25T00:00:00.000Z",
         "Deaths": 0,
         "Deaths_New": 0,
         "Recovered": 0,
         "Recovered_New": 0,
         "index": 3
        },
        {
         "Confirmed": 0,
         "Confirmed_New": 0,
         "Country_Region": "AFGHANISTAN",
         "Date": "2020-01-26T00:00:00.000Z",
         "Deaths": 0,
         "Deaths_New": 0,
         "Recovered": 0,
         "Recovered_New": 0,
         "index": 4
        }
       ],
       "schema": {
        "fields": [
         {
          "name": "index",
          "type": "integer"
         },
         {
          "name": "Confirmed",
          "type": "integer"
         },
         {
          "name": "Confirmed_New",
          "type": "number"
         },
         {
          "name": "Country_Region",
          "type": "string"
         },
         {
          "name": "Date",
          "type": "datetime"
         },
         {
          "name": "Deaths",
          "type": "integer"
         },
         {
          "name": "Deaths_New",
          "type": "number"
         },
         {
          "name": "Recovered",
          "type": "integer"
         },
         {
          "name": "Recovered_New",
          "type": "number"
         }
        ],
        "pandas_version": "0.20.0",
        "primaryKey": [
         "index"
        ]
       }
      },
      "text/html": [
       "<div>\n",
       "<style scoped>\n",
       "    .dataframe tbody tr th:only-of-type {\n",
       "        vertical-align: middle;\n",
       "    }\n",
       "\n",
       "    .dataframe tbody tr th {\n",
       "        vertical-align: top;\n",
       "    }\n",
       "\n",
       "    .dataframe thead th {\n",
       "        text-align: right;\n",
       "    }\n",
       "</style>\n",
       "<table border=\"1\" class=\"dataframe\">\n",
       "  <thead>\n",
       "    <tr style=\"text-align: right;\">\n",
       "      <th></th>\n",
       "      <th>Confirmed</th>\n",
       "      <th>Confirmed_New</th>\n",
       "      <th>Country_Region</th>\n",
       "      <th>Date</th>\n",
       "      <th>Deaths</th>\n",
       "      <th>Deaths_New</th>\n",
       "      <th>Recovered</th>\n",
       "      <th>Recovered_New</th>\n",
       "    </tr>\n",
       "  </thead>\n",
       "  <tbody>\n",
       "    <tr>\n",
       "      <th>0</th>\n",
       "      <td>0</td>\n",
       "      <td>0.0</td>\n",
       "      <td>AFGHANISTAN</td>\n",
       "      <td>2020-01-22</td>\n",
       "      <td>0</td>\n",
       "      <td>0.0</td>\n",
       "      <td>0</td>\n",
       "      <td>0.0</td>\n",
       "    </tr>\n",
       "    <tr>\n",
       "      <th>1</th>\n",
       "      <td>0</td>\n",
       "      <td>0.0</td>\n",
       "      <td>AFGHANISTAN</td>\n",
       "      <td>2020-01-23</td>\n",
       "      <td>0</td>\n",
       "      <td>0.0</td>\n",
       "      <td>0</td>\n",
       "      <td>0.0</td>\n",
       "    </tr>\n",
       "    <tr>\n",
       "      <th>2</th>\n",
       "      <td>0</td>\n",
       "      <td>0.0</td>\n",
       "      <td>AFGHANISTAN</td>\n",
       "      <td>2020-01-24</td>\n",
       "      <td>0</td>\n",
       "      <td>0.0</td>\n",
       "      <td>0</td>\n",
       "      <td>0.0</td>\n",
       "    </tr>\n",
       "    <tr>\n",
       "      <th>3</th>\n",
       "      <td>0</td>\n",
       "      <td>0.0</td>\n",
       "      <td>AFGHANISTAN</td>\n",
       "      <td>2020-01-25</td>\n",
       "      <td>0</td>\n",
       "      <td>0.0</td>\n",
       "      <td>0</td>\n",
       "      <td>0.0</td>\n",
       "    </tr>\n",
       "    <tr>\n",
       "      <th>4</th>\n",
       "      <td>0</td>\n",
       "      <td>0.0</td>\n",
       "      <td>AFGHANISTAN</td>\n",
       "      <td>2020-01-26</td>\n",
       "      <td>0</td>\n",
       "      <td>0.0</td>\n",
       "      <td>0</td>\n",
       "      <td>0.0</td>\n",
       "    </tr>\n",
       "  </tbody>\n",
       "</table>\n",
       "</div>"
      ],
      "text/plain": [
       "   Confirmed  Confirmed_New Country_Region       Date  Deaths  Deaths_New  \\\n",
       "0          0            0.0    AFGHANISTAN 2020-01-22       0         0.0   \n",
       "1          0            0.0    AFGHANISTAN 2020-01-23       0         0.0   \n",
       "2          0            0.0    AFGHANISTAN 2020-01-24       0         0.0   \n",
       "3          0            0.0    AFGHANISTAN 2020-01-25       0         0.0   \n",
       "4          0            0.0    AFGHANISTAN 2020-01-26       0         0.0   \n",
       "\n",
       "   Recovered  Recovered_New  \n",
       "0          0            0.0  \n",
       "1          0            0.0  \n",
       "2          0            0.0  \n",
       "3          0            0.0  \n",
       "4          0            0.0  "
      ]
     },
     "execution_count": 10,
     "metadata": {},
     "output_type": "execute_result"
    }
   ],
   "source": [
    "df_final.head()"
   ]
  },
  {
   "cell_type": "markdown",
   "metadata": {},
   "source": [
    "<font color='tan'> append year, month, and year_month"
   ]
  },
  {
   "cell_type": "code",
   "execution_count": 11,
   "metadata": {},
   "outputs": [
    {
     "data": {
      "application/vnd.dataresource+json": {
       "data": [
        {
         "Confirmed": 0,
         "Confirmed_New": 0,
         "Country_Region": "AFGHANISTAN",
         "Date": "2020-01-22T00:00:00.000Z",
         "Deaths": 0,
         "Deaths_New": 0,
         "Recovered": 0,
         "Recovered_New": 0,
         "index": 0,
         "month": 1,
         "year": 2020,
         "year_month": "2020_1"
        },
        {
         "Confirmed": 0,
         "Confirmed_New": 0,
         "Country_Region": "AFGHANISTAN",
         "Date": "2020-01-23T00:00:00.000Z",
         "Deaths": 0,
         "Deaths_New": 0,
         "Recovered": 0,
         "Recovered_New": 0,
         "index": 1,
         "month": 1,
         "year": 2020,
         "year_month": "2020_1"
        },
        {
         "Confirmed": 0,
         "Confirmed_New": 0,
         "Country_Region": "AFGHANISTAN",
         "Date": "2020-01-24T00:00:00.000Z",
         "Deaths": 0,
         "Deaths_New": 0,
         "Recovered": 0,
         "Recovered_New": 0,
         "index": 2,
         "month": 1,
         "year": 2020,
         "year_month": "2020_1"
        },
        {
         "Confirmed": 0,
         "Confirmed_New": 0,
         "Country_Region": "AFGHANISTAN",
         "Date": "2020-01-25T00:00:00.000Z",
         "Deaths": 0,
         "Deaths_New": 0,
         "Recovered": 0,
         "Recovered_New": 0,
         "index": 3,
         "month": 1,
         "year": 2020,
         "year_month": "2020_1"
        },
        {
         "Confirmed": 0,
         "Confirmed_New": 0,
         "Country_Region": "AFGHANISTAN",
         "Date": "2020-01-26T00:00:00.000Z",
         "Deaths": 0,
         "Deaths_New": 0,
         "Recovered": 0,
         "Recovered_New": 0,
         "index": 4,
         "month": 1,
         "year": 2020,
         "year_month": "2020_1"
        }
       ],
       "schema": {
        "fields": [
         {
          "name": "index",
          "type": "integer"
         },
         {
          "name": "Confirmed",
          "type": "integer"
         },
         {
          "name": "Confirmed_New",
          "type": "number"
         },
         {
          "name": "Country_Region",
          "type": "string"
         },
         {
          "name": "Date",
          "type": "datetime"
         },
         {
          "name": "Deaths",
          "type": "integer"
         },
         {
          "name": "Deaths_New",
          "type": "number"
         },
         {
          "name": "Recovered",
          "type": "integer"
         },
         {
          "name": "Recovered_New",
          "type": "number"
         },
         {
          "name": "year",
          "type": "integer"
         },
         {
          "name": "month",
          "type": "integer"
         },
         {
          "name": "year_month",
          "type": "string"
         }
        ],
        "pandas_version": "0.20.0",
        "primaryKey": [
         "index"
        ]
       }
      },
      "text/html": [
       "<div>\n",
       "<style scoped>\n",
       "    .dataframe tbody tr th:only-of-type {\n",
       "        vertical-align: middle;\n",
       "    }\n",
       "\n",
       "    .dataframe tbody tr th {\n",
       "        vertical-align: top;\n",
       "    }\n",
       "\n",
       "    .dataframe thead th {\n",
       "        text-align: right;\n",
       "    }\n",
       "</style>\n",
       "<table border=\"1\" class=\"dataframe\">\n",
       "  <thead>\n",
       "    <tr style=\"text-align: right;\">\n",
       "      <th></th>\n",
       "      <th>Confirmed</th>\n",
       "      <th>Confirmed_New</th>\n",
       "      <th>Country_Region</th>\n",
       "      <th>Date</th>\n",
       "      <th>Deaths</th>\n",
       "      <th>Deaths_New</th>\n",
       "      <th>Recovered</th>\n",
       "      <th>Recovered_New</th>\n",
       "      <th>year</th>\n",
       "      <th>month</th>\n",
       "      <th>year_month</th>\n",
       "    </tr>\n",
       "  </thead>\n",
       "  <tbody>\n",
       "    <tr>\n",
       "      <th>0</th>\n",
       "      <td>0</td>\n",
       "      <td>0.0</td>\n",
       "      <td>AFGHANISTAN</td>\n",
       "      <td>2020-01-22</td>\n",
       "      <td>0</td>\n",
       "      <td>0.0</td>\n",
       "      <td>0</td>\n",
       "      <td>0.0</td>\n",
       "      <td>2020</td>\n",
       "      <td>1</td>\n",
       "      <td>2020_1</td>\n",
       "    </tr>\n",
       "    <tr>\n",
       "      <th>1</th>\n",
       "      <td>0</td>\n",
       "      <td>0.0</td>\n",
       "      <td>AFGHANISTAN</td>\n",
       "      <td>2020-01-23</td>\n",
       "      <td>0</td>\n",
       "      <td>0.0</td>\n",
       "      <td>0</td>\n",
       "      <td>0.0</td>\n",
       "      <td>2020</td>\n",
       "      <td>1</td>\n",
       "      <td>2020_1</td>\n",
       "    </tr>\n",
       "    <tr>\n",
       "      <th>2</th>\n",
       "      <td>0</td>\n",
       "      <td>0.0</td>\n",
       "      <td>AFGHANISTAN</td>\n",
       "      <td>2020-01-24</td>\n",
       "      <td>0</td>\n",
       "      <td>0.0</td>\n",
       "      <td>0</td>\n",
       "      <td>0.0</td>\n",
       "      <td>2020</td>\n",
       "      <td>1</td>\n",
       "      <td>2020_1</td>\n",
       "    </tr>\n",
       "    <tr>\n",
       "      <th>3</th>\n",
       "      <td>0</td>\n",
       "      <td>0.0</td>\n",
       "      <td>AFGHANISTAN</td>\n",
       "      <td>2020-01-25</td>\n",
       "      <td>0</td>\n",
       "      <td>0.0</td>\n",
       "      <td>0</td>\n",
       "      <td>0.0</td>\n",
       "      <td>2020</td>\n",
       "      <td>1</td>\n",
       "      <td>2020_1</td>\n",
       "    </tr>\n",
       "    <tr>\n",
       "      <th>4</th>\n",
       "      <td>0</td>\n",
       "      <td>0.0</td>\n",
       "      <td>AFGHANISTAN</td>\n",
       "      <td>2020-01-26</td>\n",
       "      <td>0</td>\n",
       "      <td>0.0</td>\n",
       "      <td>0</td>\n",
       "      <td>0.0</td>\n",
       "      <td>2020</td>\n",
       "      <td>1</td>\n",
       "      <td>2020_1</td>\n",
       "    </tr>\n",
       "  </tbody>\n",
       "</table>\n",
       "</div>"
      ],
      "text/plain": [
       "   Confirmed  Confirmed_New Country_Region       Date  Deaths  Deaths_New  \\\n",
       "0          0            0.0    AFGHANISTAN 2020-01-22       0         0.0   \n",
       "1          0            0.0    AFGHANISTAN 2020-01-23       0         0.0   \n",
       "2          0            0.0    AFGHANISTAN 2020-01-24       0         0.0   \n",
       "3          0            0.0    AFGHANISTAN 2020-01-25       0         0.0   \n",
       "4          0            0.0    AFGHANISTAN 2020-01-26       0         0.0   \n",
       "\n",
       "   Recovered  Recovered_New  year  month year_month  \n",
       "0          0            0.0  2020      1     2020_1  \n",
       "1          0            0.0  2020      1     2020_1  \n",
       "2          0            0.0  2020      1     2020_1  \n",
       "3          0            0.0  2020      1     2020_1  \n",
       "4          0            0.0  2020      1     2020_1  "
      ]
     },
     "execution_count": 11,
     "metadata": {},
     "output_type": "execute_result"
    }
   ],
   "source": [
    "df_final['year']  = df_final['Date'].dt.year\n",
    "df_final['month'] = df_final['Date'].dt.month\n",
    "df_final['year_month'] = df_final['year'].astype(str) +'_'+ df_final['month'].astype(str)\n",
    "df_final.head()"
   ]
  },
  {
   "cell_type": "markdown",
   "metadata": {},
   "source": [
    "<font color='tan'> output as CSV file"
   ]
  },
  {
   "cell_type": "code",
   "execution_count": 12,
   "metadata": {},
   "outputs": [],
   "source": [
    "opfile = '../data/covid19_country_analysis_data.csv'\n",
    "df_final.to_csv(opfile, index=False)"
   ]
  },
  {
   "cell_type": "markdown",
   "metadata": {},
   "source": [
    "<font color='tan'> end"
   ]
  }
 ],
 "metadata": {
  "kernelspec": {
   "display_name": "Python 3",
   "language": "python",
   "name": "python3"
  },
  "language_info": {
   "codemirror_mode": {
    "name": "ipython",
    "version": 3
   },
   "file_extension": ".py",
   "mimetype": "text/x-python",
   "name": "python",
   "nbconvert_exporter": "python",
   "pygments_lexer": "ipython3",
   "version": "3.6.5"
  }
 },
 "nbformat": 4,
 "nbformat_minor": 2
}
