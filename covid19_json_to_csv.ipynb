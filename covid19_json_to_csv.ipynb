{
 "cells": [
  {
   "cell_type": "code",
   "execution_count": 1,
   "metadata": {},
   "outputs": [],
   "source": [
    "import numpy as np\n",
    "import pandas as pd\n",
    "import os\n",
    "import json\n",
    "import glob\n",
    "import sys"
   ]
  },
  {
   "cell_type": "code",
   "execution_count": 2,
   "metadata": {},
   "outputs": [],
   "source": [
    "json_filenames = glob.glob(f'../data/noncomm_use_subset/*.json', recursive=True)"
   ]
  },
  {
   "cell_type": "code",
   "execution_count": 3,
   "metadata": {},
   "outputs": [],
   "source": [
    "def return_corona_df(json_filenames, source):\n",
    "    features = {\"doc_id\": [None], \"source\": [None], \"title\": [None], \"authors\": [None],\n",
    "                  \"abstract\": [None], \"text_body\": [None], \"bibliography\": [None]}\n",
    "    df = pd.DataFrame.from_dict(features)\n",
    "    \n",
    "    for file_name in json_filenames:\n",
    "\n",
    "        row = {\"doc_id\": None, \"source\": None, \"title\": None, \"authors\": [None],\n",
    "              \"abstract\": None, \"text_body\": None, \"bibliography\": None}\n",
    "\n",
    "        with open(file_name) as json_data:\n",
    "            data = json.load(json_data)\n",
    "\n",
    "            row['doc_id'] = data['paper_id']\n",
    "            row['title'] = data['metadata']['title']\n",
    "            \n",
    "            authors = \", \".join([author['first'] + \" \" + author['last'] \\\n",
    "                                 for author in data['metadata']['authors'] if data['metadata']['authors']])\n",
    "            row['authors'] = authors\n",
    "\n",
    "            abstract_list = [data['abstract'][x]['text'] for x in range(len(data['abstract']) - 1)]\n",
    "            abstract = \"\\n \".join(abstract_list)\n",
    "\n",
    "            row['abstract'] = abstract \n",
    "            \n",
    "            body_list = [d['text'] for d in data['body_text']]\n",
    "            body = \"\\n \".join(body_list)\n",
    "            \n",
    "            row['text_body'] = body\n",
    "            \n",
    "            bibliography = \"\\n \".join([bib['title'] + \",\" + bib['venue'] + \",\" + str(bib['year']) \\\n",
    "                                      for bib in data['bib_entries'].values()])\n",
    "            row['bibliography'] = bibliography\n",
    "            \n",
    "            if source == 'b':\n",
    "                row['source'] = \"BIORXIV\"\n",
    "            elif source == \"c\":\n",
    "                row['source'] = \"COMMON_USE_SUB\"\n",
    "            elif source == \"n\":\n",
    "                row['source'] = \"NON_COMMON_USE\"\n",
    "            elif source == \"p\":\n",
    "                row['source'] = \"PMC_CUSTOM_LICENSE\"\n",
    "            \n",
    "            df = df.append(row, ignore_index=True)\n",
    "    \n",
    "    return df\n"
   ]
  },
  {
   "cell_type": "code",
   "execution_count": 4,
   "metadata": {},
   "outputs": [],
   "source": [
    "corona_df = return_corona_df(json_filenames, 'b')"
   ]
  },
  {
   "cell_type": "code",
   "execution_count": 5,
   "metadata": {},
   "outputs": [
    {
     "data": {
      "text/plain": [
       "pandas.core.frame.DataFrame"
      ]
     },
     "execution_count": 5,
     "metadata": {},
     "output_type": "execute_result"
    }
   ],
   "source": [
    "type(corona_df)"
   ]
  },
  {
   "cell_type": "code",
   "execution_count": 6,
   "metadata": {},
   "outputs": [
    {
     "name": "stdout",
     "output_type": "stream",
     "text": [
      "<class 'pandas.core.frame.DataFrame'>\n",
      "RangeIndex: 1974 entries, 0 to 1973\n",
      "Data columns (total 7 columns):\n",
      "doc_id          1973 non-null object\n",
      "source          1973 non-null object\n",
      "title           1973 non-null object\n",
      "authors         1973 non-null object\n",
      "abstract        1973 non-null object\n",
      "text_body       1973 non-null object\n",
      "bibliography    1973 non-null object\n",
      "dtypes: object(7)\n",
      "memory usage: 108.0+ KB\n"
     ]
    }
   ],
   "source": [
    "corona_df.info()"
   ]
  },
  {
   "cell_type": "code",
   "execution_count": 7,
   "metadata": {},
   "outputs": [
    {
     "data": {
      "text/html": [
       "<div>\n",
       "<style scoped>\n",
       "    .dataframe tbody tr th:only-of-type {\n",
       "        vertical-align: middle;\n",
       "    }\n",
       "\n",
       "    .dataframe tbody tr th {\n",
       "        vertical-align: top;\n",
       "    }\n",
       "\n",
       "    .dataframe thead th {\n",
       "        text-align: right;\n",
       "    }\n",
       "</style>\n",
       "<table border=\"1\" class=\"dataframe\">\n",
       "  <thead>\n",
       "    <tr style=\"text-align: right;\">\n",
       "      <th></th>\n",
       "      <th>doc_id</th>\n",
       "      <th>source</th>\n",
       "      <th>title</th>\n",
       "      <th>authors</th>\n",
       "      <th>abstract</th>\n",
       "      <th>text_body</th>\n",
       "      <th>bibliography</th>\n",
       "    </tr>\n",
       "  </thead>\n",
       "  <tbody>\n",
       "    <tr>\n",
       "      <th>0</th>\n",
       "      <td>None</td>\n",
       "      <td>None</td>\n",
       "      <td>None</td>\n",
       "      <td>None</td>\n",
       "      <td>None</td>\n",
       "      <td>None</td>\n",
       "      <td>None</td>\n",
       "    </tr>\n",
       "    <tr>\n",
       "      <th>1</th>\n",
       "      <td>ad98979eada6e333a276d39efdce21779d538625</td>\n",
       "      <td>BIORXIV</td>\n",
       "      <td>Xanthine-based acyclic nucleoside phosphonates...</td>\n",
       "      <td>Ond Rej Baszczy Nski, Martin Kaiser, Michal Ce...</td>\n",
       "      <td></td>\n",
       "      <td>The concentration and ratio of purine nucleoti...</td>\n",
       "      <td>Absolute metabolite concentrations and implied...</td>\n",
       "    </tr>\n",
       "    <tr>\n",
       "      <th>2</th>\n",
       "      <td>c436139975d97ef929b5d8452595de40bda0c11c</td>\n",
       "      <td>BIORXIV</td>\n",
       "      <td>Phone: (1) 301-451-9881, jbeigel@niaid.nih.gov</td>\n",
       "      <td>John Beigel, Pablo Tebas, Marie-Carmelle Elie-...</td>\n",
       "      <td>on behalf of the IRC002 Study Team Summary Bac...</td>\n",
       "      <td>Pandemic influenza remains a global health thr...</td>\n",
       "      <td>Meta-analysis: convalescent blood products for...</td>\n",
       "    </tr>\n",
       "    <tr>\n",
       "      <th>3</th>\n",
       "      <td>634128ea7d7736750e1c3cd0a48bb37843d06dac</td>\n",
       "      <td>BIORXIV</td>\n",
       "      <td>A Strategy To Estimate Unknown Viral Diversity...</td>\n",
       "      <td>Simon Anthony, Jonathan Epstein, Kris Murray, ...</td>\n",
       "      <td></td>\n",
       "      <td>A total of 12,793 consensus PCR assays were pe...</td>\n",
       "      <td>Factors in the emergence of infectious disease...</td>\n",
       "    </tr>\n",
       "    <tr>\n",
       "      <th>4</th>\n",
       "      <td>f3cb4102ee8c1aeb8e68595843292801a08effe3</td>\n",
       "      <td>BIORXIV</td>\n",
       "      <td>Global Catastrophic Biological Risks Pandemics...</td>\n",
       "      <td>Lone Simonsen, Cecile Viboud</td>\n",
       "      <td></td>\n",
       "      <td>a welcome opportunity to reflect on the most s...</td>\n",
       "      <td>World Health Organization. Influenza. Pandemic...</td>\n",
       "    </tr>\n",
       "  </tbody>\n",
       "</table>\n",
       "</div>"
      ],
      "text/plain": [
       "                                     doc_id   source  \\\n",
       "0                                      None     None   \n",
       "1  ad98979eada6e333a276d39efdce21779d538625  BIORXIV   \n",
       "2  c436139975d97ef929b5d8452595de40bda0c11c  BIORXIV   \n",
       "3  634128ea7d7736750e1c3cd0a48bb37843d06dac  BIORXIV   \n",
       "4  f3cb4102ee8c1aeb8e68595843292801a08effe3  BIORXIV   \n",
       "\n",
       "                                               title  \\\n",
       "0                                               None   \n",
       "1  Xanthine-based acyclic nucleoside phosphonates...   \n",
       "2     Phone: (1) 301-451-9881, jbeigel@niaid.nih.gov   \n",
       "3  A Strategy To Estimate Unknown Viral Diversity...   \n",
       "4  Global Catastrophic Biological Risks Pandemics...   \n",
       "\n",
       "                                             authors  \\\n",
       "0                                               None   \n",
       "1  Ond Rej Baszczy Nski, Martin Kaiser, Michal Ce...   \n",
       "2  John Beigel, Pablo Tebas, Marie-Carmelle Elie-...   \n",
       "3  Simon Anthony, Jonathan Epstein, Kris Murray, ...   \n",
       "4                       Lone Simonsen, Cecile Viboud   \n",
       "\n",
       "                                            abstract  \\\n",
       "0                                               None   \n",
       "1                                                      \n",
       "2  on behalf of the IRC002 Study Team Summary Bac...   \n",
       "3                                                      \n",
       "4                                                      \n",
       "\n",
       "                                           text_body  \\\n",
       "0                                               None   \n",
       "1  The concentration and ratio of purine nucleoti...   \n",
       "2  Pandemic influenza remains a global health thr...   \n",
       "3  A total of 12,793 consensus PCR assays were pe...   \n",
       "4  a welcome opportunity to reflect on the most s...   \n",
       "\n",
       "                                        bibliography  \n",
       "0                                               None  \n",
       "1  Absolute metabolite concentrations and implied...  \n",
       "2  Meta-analysis: convalescent blood products for...  \n",
       "3  Factors in the emergence of infectious disease...  \n",
       "4  World Health Organization. Influenza. Pandemic...  "
      ]
     },
     "execution_count": 7,
     "metadata": {},
     "output_type": "execute_result"
    }
   ],
   "source": [
    "corona_df.head()"
   ]
  },
  {
   "cell_type": "code",
   "execution_count": null,
   "metadata": {},
   "outputs": [],
   "source": []
  },
  {
   "cell_type": "code",
   "execution_count": null,
   "metadata": {},
   "outputs": [],
   "source": []
  },
  {
   "cell_type": "code",
   "execution_count": null,
   "metadata": {},
   "outputs": [],
   "source": []
  }
 ],
 "metadata": {
  "kernelspec": {
   "display_name": "Python 3",
   "language": "python",
   "name": "python3"
  },
  "language_info": {
   "codemirror_mode": {
    "name": "ipython",
    "version": 3
   },
   "file_extension": ".py",
   "mimetype": "text/x-python",
   "name": "python",
   "nbconvert_exporter": "python",
   "pygments_lexer": "ipython3",
   "version": "3.6.5"
  }
 },
 "nbformat": 4,
 "nbformat_minor": 2
}
